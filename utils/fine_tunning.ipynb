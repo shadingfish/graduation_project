{
 "cells": [
  {
   "cell_type": "code",
   "id": "initial_id",
   "metadata": {
    "collapsed": true,
    "ExecuteTime": {
     "end_time": "2024-05-04T05:27:45.617360Z",
     "start_time": "2024-05-04T05:27:45.604384Z"
    }
   },
   "source": [
    "import fine_tunning\n",
    "import json\n",
    "\n",
    "fine_tuning_data = []\n",
    "stratify_array = []\n",
    "for item in fine_tunning.examples:\n",
    "    stratify_array.append(\"'question_type_code': '\" + item[\"output\"][\"question_type_code\"] + \"'\")\n",
    "    fine_tuning_data.append({\n",
    "        \"messages\": [\n",
    "            {\"role\": \"user\", \"content\": item['input']},\n",
    "            {\"role\": \"assistant\", \"content\": json.dumps(item['output'], ensure_ascii=False)},\n",
    "        ]\n",
    "    })\n",
    "    \n",
    "print(stratify_array)"
   ],
   "outputs": [
    {
     "name": "stdout",
     "output_type": "stream",
     "text": [
      "[\"'question_type_code': 'a'\", \"'question_type_code': 'a'\", \"'question_type_code': 'a'\", \"'question_type_code': 'b'\", \"'question_type_code': 'b'\", \"'question_type_code': 'b'\", \"'question_type_code': 'b'\", \"'question_type_code': 'c'\", \"'question_type_code': 'c'\", \"'question_type_code': 'c'\", \"'question_type_code': 'c'\", \"'question_type_code': 'd'\", \"'question_type_code': 'd'\", \"'question_type_code': 'd'\", \"'question_type_code': 'd'\", \"'question_type_code': 'e'\", \"'question_type_code': 'e'\", \"'question_type_code': 'e'\", \"'question_type_code': 'e'\", \"'question_type_code': 'f'\", \"'question_type_code': 'f'\", \"'question_type_code': 'f'\", \"'question_type_code': 'f'\", \"'question_type_code': 'g'\", \"'question_type_code': 'g'\", \"'question_type_code': 'g'\", \"'question_type_code': 'g'\", \"'question_type_code': 'h'\", \"'question_type_code': 'h'\", \"'question_type_code': 'h'\", \"'question_type_code': 'h'\", \"'question_type_code': 'i'\", \"'question_type_code': 'i'\", \"'question_type_code': 'i'\", \"'question_type_code': 'i'\", \"'question_type_code': 'l'\", \"'question_type_code': 'l'\", \"'question_type_code': 'l'\", \"'question_type_code': 'm'\", \"'question_type_code': 'm'\", \"'question_type_code': 'm'\", \"'question_type_code': 'm'\", \"'question_type_code': 'n'\", \"'question_type_code': 'n'\", \"'question_type_code': 'n'\", \"'question_type_code': 'n'\", \"'question_type_code': 'x'\", \"'question_type_code': 'x'\", \"'question_type_code': 'x'\", \"'question_type_code': 'x'\"]\n"
     ]
    }
   ],
   "execution_count": 28
  },
  {
   "metadata": {
    "ExecuteTime": {
     "end_time": "2024-05-04T05:27:49.395040Z",
     "start_time": "2024-05-04T05:27:49.383041Z"
    }
   },
   "cell_type": "code",
   "source": [
    "from sklearn.model_selection import train_test_split\n",
    "\n",
    "train_data, val_data = train_test_split(\n",
    "    fine_tuning_data,\n",
    "    test_size=0.25,\n",
    "    stratify=stratify_array,\n",
    "    random_state=42,\n",
    ")\n",
    "\n",
    "print(train_data)\n",
    "print(val_data)"
   ],
   "id": "d0cef42c2bfb3024",
   "outputs": [
    {
     "name": "stdout",
     "output_type": "stream",
     "text": [
      "[{'messages': [{'role': 'user', 'content': '种西兰花时要提防哪些病'}, {'role': 'assistant', 'content': '{\"crop\": [\"西兰花\"], \"pathogen\": [], \"soil\": [], \"growthStage\": [], \"question_type_code\": \"f\"}'}]}, {'messages': [{'role': 'user', 'content': '锈菌容易危害哪些作物?'}, {'role': 'assistant', 'content': '{\"crop\": [], \"pathogen\": [\"锈菌\"], \"soil\": [], \"growthStage\": [], \"question_type_code\": \"h\"}'}]}, {'messages': [{'role': 'user', 'content': '种植豌豆时最重要的阶段是什么'}, {'role': 'assistant', 'content': '{\"crop\": [\"豌豆\"], \"pathogen\": [], \"soil\": [], \"growthStage\": [], \"question_type_code\": \"e\"}'}]}, {'messages': [{'role': 'user', 'content': '杏仁爱感染青枯病菌吗'}, {'role': 'assistant', 'content': '{\"crop\": [\"杏仁\"], \"pathogen\": [\"青枯病菌\"], \"soil\": [], \"growthStage\": [], \"question_type_code\": \"m\"}'}]}, {'messages': [{'role': 'user', 'content': '水稻适合在什么温度下生长'}, {'role': 'assistant', 'content': '{\"crop\": [\"水稻\"], \"pathogen\": [], \"soil\": [], \"growthStage\": [], \"question_type_code\": \"b\"}'}]}, {'messages': [{'role': 'user', 'content': '授粉和受精阶段是种植姜的重要阶段吗'}, {'role': 'assistant', 'content': '{\"crop\": [\"姜\"], \"pathogen\": [], \"soil\": [], \"growthStage\": [\"授粉和受精\"], \"question_type_code\": \"n\"}'}]}, {'messages': [{'role': 'user', 'content': '适合使用泥炭土培育香蕉吗'}, {'role': 'assistant', 'content': '{\"crop\": [\"香蕉\"], \"pathogen\": [], \"soil\": [\"泥炭土\"], \"growthStage\": [], \"question_type_code\": \"l\"}'}]}, {'messages': [{'role': 'user', 'content': '棉花属于哪个分类学属'}, {'role': 'assistant', 'content': '{\"crop\": [\"棉花\"], \"pathogen\": [], \"soil\": [], \"growthStage\": [], \"question_type_code\": \"d\"}'}]}, {'messages': [{'role': 'user', 'content': '哪个种属下包含油菜'}, {'role': 'assistant', 'content': '{\"crop\": [\"油菜\"], \"pathogen\": [], \"soil\": [], \"growthStage\": [], \"question_type_code\": \"d\"}'}]}, {'messages': [{'role': 'user', 'content': '种植甜菜的适宜湿度是多少'}, {'role': 'assistant', 'content': '{\"crop\": [\"甜菜\"], \"pathogen\": [], \"soil\": [], \"growthStage\": [], \"question_type_code\": \"c\"}'}]}, {'messages': [{'role': 'user', 'content': '卷心菜有哪些易染的病害'}, {'role': 'assistant', 'content': '{\"crop\": [\"卷心菜\"], \"pathogen\": [], \"soil\": [], \"growthStage\": [], \"question_type_code\": \"f\"}'}]}, {'messages': [{'role': 'user', 'content': '种植柑橘什么类型的土地最合适'}, {'role': 'assistant', 'content': '{\"crop\": [\"柑橘\"], \"pathogen\": [], \"soil\": [], \"growthStage\": [], \"question_type_code\": \"g\"}'}]}, {'messages': [{'role': 'user', 'content': '锈菌属于什么属?'}, {'role': 'assistant', 'content': '{\"crop\": [], \"pathogen\": [\"锈菌\"], \"soil\": [], \"growthStage\": [], \"question_type_code\": \"i\"}'}]}, {'messages': [{'role': 'user', 'content': '开花阶段对芦笋的影响大么'}, {'role': 'assistant', 'content': '{\"crop\": [\"芦笋\"], \"pathogen\": [], \"soil\": [], \"growthStage\": [\"开花\"], \"question_type_code\": \"n\"}'}]}, {'messages': [{'role': 'user', 'content': '果实发育和种子形成阶段对洋葱关键吗？'}, {'role': 'assistant', 'content': '{\"crop\": [\"洋葱\"], \"pathogen\": [], \"soil\": [], \"growthStage\": [\"果实发育和种子形成\"], \"question_type_code\": \"n\"}'}]}, {'messages': [{'role': 'user', 'content': '种植大豆有什么注意事项'}, {'role': 'assistant', 'content': '{\"crop\": [\"大豆\"], \"pathogen\": [], \"soil\": [], \"growthStage\": [], \"question_type_code\": \"a\"}'}]}, {'messages': [{'role': 'user', 'content': '烟草花叶病毒容易寄生燕麦吗'}, {'role': 'assistant', 'content': '{\"crop\": [\"燕麦\"], \"pathogen\": [\"烟草花叶病毒\"], \"soil\": [], \"growthStage\": [], \"question_type_code\": \"m\"}'}]}, {'messages': [{'role': 'user', 'content': '洋葱适合什么生长温度？'}, {'role': 'assistant', 'content': '{\"crop\": [\"洋葱\"], \"pathogen\": [], \"soil\": [], \"growthStage\": [], \"question_type_code\": \"b\"}'}]}, {'messages': [{'role': 'user', 'content': '枯萎镰刀菌的常见宿主有哪些'}, {'role': 'assistant', 'content': '{\"crop\": [], \"pathogen\": [\"枯萎镰刀菌\"], \"soil\": [], \"growthStage\": [], \"question_type_code\": \"h\"}'}]}, {'messages': [{'role': 'user', 'content': '大麦在什么湿度下生长适宜'}, {'role': 'assistant', 'content': '{\"crop\": [\"大麦\"], \"pathogen\": [], \"soil\": [], \"growthStage\": [], \"question_type_code\": \"c\"}'}]}, {'messages': [{'role': 'user', 'content': '花生的培育过程中关键的生长阶段有哪些'}, {'role': 'assistant', 'content': '{\"crop\": [\"花生\"], \"pathogen\": [], \"soil\": [], \"growthStage\": [], \"question_type_code\": \"e\"}'}]}, {'messages': [{'role': 'user', 'content': '甘蔗适合在什么湿度下生长'}, {'role': 'assistant', 'content': '{\"crop\": [\"甘蔗\"], \"pathogen\": [], \"soil\": [], \"growthStage\": [], \"question_type_code\": \"c\"}'}]}, {'messages': [{'role': 'user', 'content': '洋葱容易感染哪些病？'}, {'role': 'assistant', 'content': '{\"crop\": [\"洋葱\"], \"pathogen\": [], \"soil\": [], \"growthStage\": [], \"question_type_code\": \"f\"}'}]}, {'messages': [{'role': 'user', 'content': '苹果生长的适宜土质是什么'}, {'role': 'assistant', 'content': '{\"crop\": [\"苹果\"], \"pathogen\": [], \"soil\": [], \"growthStage\": [], \"question_type_code\": \"g\"}'}]}, {'messages': [{'role': 'user', 'content': '甜玉米的种植有什么要注意的点'}, {'role': 'assistant', 'content': '{\"crop\": [\"甜玉米\"], \"pathogen\": [], \"soil\": [], \"growthStage\": [], \"question_type_code\": \"a\"}'}]}, {'messages': [{'role': 'user', 'content': '拜登是美国总统'}, {'role': 'assistant', 'content': '{\"crop\": [], \"pathogen\": [], \"soil\": [], \"growthStage\": [], \"question_type_code\": \"x\"}'}]}, {'messages': [{'role': 'user', 'content': '洋葱容易受到锈菌感染吗？'}, {'role': 'assistant', 'content': '{\"crop\": [\"洋葱\"], \"pathogen\": [\"锈菌\"], \"soil\": [], \"growthStage\": [], \"question_type_code\": \"m\"}'}]}, {'messages': [{'role': 'user', 'content': '一个人越是感性就越容易伤心吗'}, {'role': 'assistant', 'content': '{\"crop\": [], \"pathogen\": [], \"soil\": [], \"growthStage\": [], \"question_type_code\": \"x\"}'}]}, {'messages': [{'role': 'user', 'content': '哪个种属下包含黄曲霉'}, {'role': 'assistant', 'content': '{\"crop\": [], \"pathogen\": [\"黄曲霉\"], \"soil\": [], \"growthStage\": [], \"question_type_code\": \"i\"}'}]}, {'messages': [{'role': 'user', 'content': '母鸡喜欢吃什么'}, {'role': 'assistant', 'content': '{\"crop\": [], \"pathogen\": [], \"soil\": [], \"growthStage\": [], \"question_type_code\": \"x\"}'}]}, {'messages': [{'role': 'user', 'content': '洋葱有哪些关键的生长阶段？'}, {'role': 'assistant', 'content': '{\"crop\": [\"洋葱\"], \"pathogen\": [], \"soil\": [], \"growthStage\": [], \"question_type_code\": \"e\"}'}]}, {'messages': [{'role': 'user', 'content': '种植辣椒用砂壤土合适吗'}, {'role': 'assistant', 'content': '{\"crop\": [\"辣椒\"], \"pathogen\": [], \"soil\": [\"砂壤土\"], \"growthStage\": [], \"question_type_code\": \"l\"}'}]}, {'messages': [{'role': 'user', 'content': '黄萎病菌是那个属的'}, {'role': 'assistant', 'content': '{\"crop\": [], \"pathogen\": [\"黄萎病菌\"], \"soil\": [], \"growthStage\": [], \"question_type_code\": \"i\"}'}]}, {'messages': [{'role': 'user', 'content': '小麦在什么温度下生长适宜？'}, {'role': 'assistant', 'content': '{\"crop\": [\"小麦\"], \"pathogen\": [], \"soil\": [], \"growthStage\": [], \"question_type_code\": \"b\"}'}]}, {'messages': [{'role': 'user', 'content': '什么土壤适合胡萝卜生长'}, {'role': 'assistant', 'content': '{\"crop\": [\"胡萝卜\"], \"pathogen\": [], \"soil\": [], \"growthStage\": [], \"question_type_code\": \"g\"}'}]}, {'messages': [{'role': 'user', 'content': '洋葱是什么属的作物？'}, {'role': 'assistant', 'content': '{\"crop\": [\"洋葱\"], \"pathogen\": [], \"soil\": [], \"growthStage\": [], \"question_type_code\": \"d\"}'}]}, {'messages': [{'role': 'user', 'content': '哪些作物易受马铃薯疫霉危害'}, {'role': 'assistant', 'content': '{\"crop\": [], \"pathogen\": [\"马铃薯疫霉\"], \"soil\": [], \"growthStage\": [], \"question_type_code\": \"h\"}'}]}]\n",
      "[{'messages': [{'role': 'user', 'content': '洋葱适合什么生长湿度？'}, {'role': 'assistant', 'content': '{\"crop\": [\"洋葱\"], \"pathogen\": [], \"soil\": [], \"growthStage\": [], \"question_type_code\": \"c\"}'}]}, {'messages': [{'role': 'user', 'content': '灰葡萄孢属于哪个分类学属'}, {'role': 'assistant', 'content': '{\"crop\": [], \"pathogen\": [\"灰葡萄孢\"], \"soil\": [], \"growthStage\": [], \"question_type_code\": \"i\"}'}]}, {'messages': [{'role': 'user', 'content': '哪些生长阶段对烟草是关键的'}, {'role': 'assistant', 'content': '{\"crop\": [\"烟草\"], \"pathogen\": [], \"soil\": [], \"growthStage\": [], \"question_type_code\": \"e\"}'}]}, {'messages': [{'role': 'user', 'content': '我今天去上学了'}, {'role': 'assistant', 'content': '{\"crop\": [], \"pathogen\": [], \"soil\": [], \"growthStage\": [], \"question_type_code\": \"x\"}'}]}, {'messages': [{'role': 'user', 'content': '种植洋葱时要注意什么？'}, {'role': 'assistant', 'content': '{\"crop\": [\"洋葱\"], \"pathogen\": [], \"soil\": [], \"growthStage\": [], \"question_type_code\": \"a\"}'}]}, {'messages': [{'role': 'user', 'content': '黄瓜容易被黑粉菌侵染吗'}, {'role': 'assistant', 'content': '{\"crop\": [\"黄瓜\"], \"pathogen\": [\"黑粉菌\"], \"soil\": [], \"growthStage\": [], \"question_type_code\": \"m\"}'}]}, {'messages': [{'role': 'user', 'content': '洋葱适合生长在什么土壤里？'}, {'role': 'assistant', 'content': '{\"crop\": [\"洋葱\"], \"pathogen\": [], \"soil\": [], \"growthStage\": [], \"question_type_code\": \"g\"}'}]}, {'messages': [{'role': 'user', 'content': '菠菜爱得哪些病'}, {'role': 'assistant', 'content': '{\"crop\": [\"菠菜\"], \"pathogen\": [], \"soil\": [], \"growthStage\": [], \"question_type_code\": \"f\"}'}]}, {'messages': [{'role': 'user', 'content': '黑粉菌喜欢侵害哪些植物'}, {'role': 'assistant', 'content': '{\"crop\": [], \"pathogen\": [\"黑粉菌\"], \"soil\": [], \"growthStage\": [], \"question_type_code\": \"h\"}'}]}, {'messages': [{'role': 'user', 'content': '植物学中棕榈属于哪个种'}, {'role': 'assistant', 'content': '{\"crop\": [\"棕榈\"], \"pathogen\": [], \"soil\": [], \"growthStage\": [], \"question_type_code\": \"d\"}'}]}, {'messages': [{'role': 'user', 'content': '西瓜喜欢生长在沙质土壤中吗'}, {'role': 'assistant', 'content': '{\"crop\": [\"西瓜\"], \"pathogen\": [], \"soil\": [\"沙质土壤\"], \"growthStage\": [], \"question_type_code\": \"l\"}'}]}, {'messages': [{'role': 'user', 'content': '种植马铃薯的适宜温度是多少'}, {'role': 'assistant', 'content': '{\"crop\": [\"马铃薯\"], \"pathogen\": [], \"soil\": [], \"growthStage\": [], \"question_type_code\": \"b\"}'}]}, {'messages': [{'role': 'user', 'content': '芒果的生长过程中成熟阶段关键吗'}, {'role': 'assistant', 'content': '{\"crop\": [\"芒果\"], \"pathogen\": [], \"soil\": [], \"growthStage\": [\"成熟\"], \"question_type_code\": \"n\"}'}]}]\n"
     ]
    }
   ],
   "execution_count": 29
  },
  {
   "metadata": {
    "ExecuteTime": {
     "end_time": "2024-05-04T05:27:55.084157Z",
     "start_time": "2024-05-04T05:27:55.075159Z"
    }
   },
   "cell_type": "code",
   "source": [
    "def write_to_jsonl(data, file_path):\n",
    "    with open(file_path, \"w\", encoding=\"utf-8\") as f:\n",
    "        for entry in data:\n",
    "            json.dump(entry, f)\n",
    "            f.write(\"\\n\")\n",
    "            \n",
    "            \n",
    "training_file_name = \"train.jsonl\"\n",
    "validation_file_name = \"val.jsonl\"\n",
    "\n",
    "write_to_jsonl(train_data, training_file_name)\n",
    "write_to_jsonl(val_data, validation_file_name)"
   ],
   "id": "ce4c3e4fcdd3abec",
   "outputs": [],
   "execution_count": 30
  },
  {
   "metadata": {
    "ExecuteTime": {
     "end_time": "2024-05-04T05:29:18.334728Z",
     "start_time": "2024-05-04T05:29:15.559481Z"
    }
   },
   "cell_type": "code",
   "source": [
    "from openai import OpenAI\n",
    "from dotenv import load_dotenv\n",
    "\n",
    "load_dotenv()\n",
    "client = OpenAI()\n",
    "\n",
    "training_file = client.files.create(\n",
    "    file=open(training_file_name, \"rb\"),purpose=\"fine-tune\",\n",
    ")\n",
    "\n",
    "validation_file = client.files.create(\n",
    "    file=open(validation_file_name, \"rb\"),purpose=\"fine-tune\",\n",
    ")\n",
    "\n",
    "print(\"Training file id: \" + training_file.id)\n",
    "print(\"Validation file id: \" + validation_file.id)"
   ],
   "id": "3b82155befbd95da",
   "outputs": [
    {
     "name": "stdout",
     "output_type": "stream",
     "text": [
      "Training file id: file-YzuujHLwXQdxDA1HP47I2jUw\n",
      "Validation file id: file-gJvwYUmUfhIXggWC4qO8FqJ6\n"
     ]
    }
   ],
   "execution_count": 31
  },
  {
   "metadata": {
    "ExecuteTime": {
     "end_time": "2024-05-04T05:31:37.461017Z",
     "start_time": "2024-05-04T05:31:33.471836Z"
    }
   },
   "cell_type": "code",
   "source": [
    "suffix_name = \"graduation_dingyi\"\n",
    "\n",
    "response = client.fine_tuning.jobs.create(\n",
    "    training_file=training_file.id,\n",
    "    validation_file=validation_file.id,\n",
    "    model=\"gpt-3.5-turbo\",\n",
    "    suffix=suffix_name,\n",
    ")\n",
    "\n",
    "response\n",
    "client.fine_tuning.jobs.list(limit=10)"
   ],
   "id": "219df899b9c8205a",
   "outputs": [
    {
     "data": {
      "text/plain": [
       "SyncCursorPage[FineTuningJob](data=[FineTuningJob(id='ftjob-XL835m6xrDXZbwqXlyTW2Psc', created_at=1714800697, error=Error(code=None, message=None, param=None), fine_tuned_model=None, finished_at=None, hyperparameters=Hyperparameters(n_epochs='auto', batch_size='auto', learning_rate_multiplier='auto'), model='gpt-3.5-turbo-0125', object='fine_tuning.job', organization_id='org-im0rsa7K8uZbOeVhnVIswllJ', result_files=[], seed=1540444486, status='validating_files', trained_tokens=None, training_file='file-YzuujHLwXQdxDA1HP47I2jUw', validation_file='file-gJvwYUmUfhIXggWC4qO8FqJ6', estimated_finish=None, integrations=[], user_provided_suffix='graduation_dingyi'), FineTuningJob(id='ftjob-G384HyJ8O3tPTW1mZkZMmdjF', created_at=1714799543, error=Error(code='invalid_training_file', message='The job failed due to an invalid training file. Unexpected file format, expected either prompt/completion pairs or chat messages.', param='training_file'), fine_tuned_model=None, finished_at=None, hyperparameters=Hyperparameters(n_epochs='auto', batch_size='auto', learning_rate_multiplier='auto'), model='gpt-3.5-turbo-0125', object='fine_tuning.job', organization_id='org-im0rsa7K8uZbOeVhnVIswllJ', result_files=[], seed=1276104539, status='failed', trained_tokens=None, training_file='file-KrHqjcpd14jsyLa8ifPLDu0m', validation_file='file-EwMXlP6Fx771DQkeKooxI3AX', estimated_finish=None, integrations=[], user_provided_suffix='graduation_dingyi')], object='list', has_more=False)"
      ]
     },
     "execution_count": 32,
     "metadata": {},
     "output_type": "execute_result"
    }
   ],
   "execution_count": 32
  },
  {
   "metadata": {
    "ExecuteTime": {
     "end_time": "2024-05-04T05:32:05.395619Z",
     "start_time": "2024-05-04T05:32:04.094094Z"
    }
   },
   "cell_type": "code",
   "source": [
    "import os\n",
    "\n",
    "response = client.fine_tuning.jobs.retrieve(os.getenv(\"FINE_TUNE_ID\"))\n",
    "response"
   ],
   "id": "110b9370ff1e8f4e",
   "outputs": [
    {
     "data": {
      "text/plain": [
       "FineTuningJob(id='ftjob-XL835m6xrDXZbwqXlyTW2Psc', created_at=1714800697, error=Error(code=None, message=None, param=None), fine_tuned_model=None, finished_at=None, hyperparameters=Hyperparameters(n_epochs=3, batch_size=1, learning_rate_multiplier=2), model='gpt-3.5-turbo-0125', object='fine_tuning.job', organization_id='org-im0rsa7K8uZbOeVhnVIswllJ', result_files=[], seed=1540444486, status='running', trained_tokens=None, training_file='file-YzuujHLwXQdxDA1HP47I2jUw', validation_file='file-gJvwYUmUfhIXggWC4qO8FqJ6', estimated_finish=None, integrations=[], user_provided_suffix='graduation_dingyi')"
      ]
     },
     "execution_count": 33,
     "metadata": {},
     "output_type": "execute_result"
    }
   ],
   "execution_count": 33
  },
  {
   "metadata": {},
   "cell_type": "code",
   "outputs": [],
   "execution_count": null,
   "source": [
    "def predict(test_query, fine_tune_model_id):\n",
    "    messages = [{\n",
    "        \"role\": \"user\",\n",
    "        \"content\": test_query\n",
    "    }]\n",
    "    \n",
    "    output = client.chat.completions.create(\n",
    "        model = fine_tune_model_id, messages=messages, temperature=0, max_tokens=100\n",
    "    )\n",
    "    \n",
    "    return output.choices[0].message.content"
   ],
   "id": "b1d97496147a1d73"
  }
 ],
 "metadata": {
  "kernelspec": {
   "display_name": "Python 3",
   "language": "python",
   "name": "python3"
  },
  "language_info": {
   "codemirror_mode": {
    "name": "ipython",
    "version": 2
   },
   "file_extension": ".py",
   "mimetype": "text/x-python",
   "name": "python",
   "nbconvert_exporter": "python",
   "pygments_lexer": "ipython2",
   "version": "2.7.6"
  }
 },
 "nbformat": 4,
 "nbformat_minor": 5
}
